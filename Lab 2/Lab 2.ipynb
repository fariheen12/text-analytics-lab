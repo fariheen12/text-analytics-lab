{
 "cells": [
  {
   "cell_type": "code",
   "execution_count": 1,
   "id": "9ace7900-e0aa-4cb2-8e16-612471a201b3",
   "metadata": {},
   "outputs": [],
   "source": [
    "#importing regular expression library\n",
    "import re"
   ]
  },
  {
   "cell_type": "code",
   "execution_count": 3,
   "id": "9a19a82c-0c5a-43be-b483-ef1f2942c1b1",
   "metadata": {},
   "outputs": [
    {
     "name": "stdout",
     "output_type": "stream",
     "text": [
      "<re.Match object; span=(0, 1), match='I'>\n"
     ]
    }
   ],
   "source": [
    "#using re.match\n",
    "#to find the first occurrence of the letter 'I' in the string\n",
    "sentence1 = re.match (r'I', 'I am learning text analytics')\n",
    "print (sentence1)"
   ]
  },
  {
   "cell_type": "code",
   "execution_count": 5,
   "id": "a84f9cf4-5148-413f-96a8-49e6fb24bc03",
   "metadata": {},
   "outputs": [
    {
     "name": "stdout",
     "output_type": "stream",
     "text": [
      "None\n"
     ]
    }
   ],
   "source": [
    "#using re.match\n",
    "#to find the first occurrence of the letter 'v' in the string\n",
    "sentence2 = re.match (r'v', 'I am learning text analytics')\n",
    "print (sentence2)"
   ]
  },
  {
   "cell_type": "code",
   "execution_count": 9,
   "id": "bff36f28-5dc1-423d-b666-a8cebe85fb53",
   "metadata": {},
   "outputs": [
    {
     "name": "stdout",
     "output_type": "stream",
     "text": [
      "None\n"
     ]
    }
   ],
   "source": [
    "#using re.match\n",
    "#to find the first occurrence of the letter 'am' in the string\n",
    "sentence3 = re.match (r'am', 'I am learning text analytics')\n",
    "print (sentence3)"
   ]
  },
  {
   "cell_type": "code",
   "execution_count": 11,
   "id": "ab4b19bf-d8d5-4cf3-a94f-5c790fe91464",
   "metadata": {},
   "outputs": [
    {
     "name": "stdout",
     "output_type": "stream",
     "text": [
      "<re.Match object; span=(2, 4), match='am'>\n"
     ]
    }
   ],
   "source": [
    "sentence4 = re.search(r'am', 'I am learning text analytics')\n",
    "print (sentence4) "
   ]
  },
  {
   "cell_type": "code",
   "execution_count": 15,
   "id": "2d6d4d8a-1c93-4922-8e97-91269019bd12",
   "metadata": {},
   "outputs": [
    {
     "name": "stdout",
     "output_type": "stream",
     "text": [
      "<re.Match object; span=(2, 4), match='am'>\n"
     ]
    }
   ],
   "source": [
    "sentence5 = re.search(r'am', 'I am learning text analytics and am enjoying it')\n",
    "print (sentence5) "
   ]
  },
  {
   "cell_type": "code",
   "execution_count": 19,
   "id": "89ad014a-b78e-462b-91c8-35ba2f769db1",
   "metadata": {},
   "outputs": [
    {
     "name": "stdout",
     "output_type": "stream",
     "text": [
      "['am', 'am']\n"
     ]
    }
   ],
   "source": [
    "sentence6 = re.findall(r'am', 'I am learning text analytics and am enjoying it')\n",
    "print (sentence6) "
   ]
  },
  {
   "cell_type": "code",
   "execution_count": 21,
   "id": "f10fecf1-3112-447c-b3c9-19cbad0a1ae4",
   "metadata": {},
   "outputs": [
    {
     "name": "stdout",
     "output_type": "stream",
     "text": [
      "['I am learning text analytics ', ' am enjoying it']\n"
     ]
    }
   ],
   "source": [
    "sentence7 = re.split(r'and', 'I am learning text analytics and am enjoying it')\n",
    "print (sentence7) "
   ]
  },
  {
   "cell_type": "code",
   "execution_count": 23,
   "id": "e88ffa0f-6c36-406b-a009-6bf6d22e100c",
   "metadata": {},
   "outputs": [
    {
     "name": "stdout",
     "output_type": "stream",
     "text": [
      "['I ', ' learning text analytics and ', ' enjoying it']\n"
     ]
    }
   ],
   "source": [
    "sentence8 = re.split(r'am', 'I am learning text analytics and am enjoying it')\n",
    "print (sentence8)"
   ]
  },
  {
   "cell_type": "code",
   "execution_count": 25,
   "id": "9acad6e3-04cc-49e2-8649-614b2c5488f6",
   "metadata": {},
   "outputs": [
    {
     "name": "stdout",
     "output_type": "stream",
     "text": [
      "['I ', ' learning text analytics and am enjoying it']\n"
     ]
    }
   ],
   "source": [
    "sentence9 = re.split(r'am', 'I am learning text analytics and am enjoying it', maxsplit=1)\n",
    "print (sentence9) "
   ]
  },
  {
   "cell_type": "code",
   "execution_count": 27,
   "id": "5db25f1e-937e-4da7-be73-142c52df7a27",
   "metadata": {},
   "outputs": [
    {
     "name": "stdout",
     "output_type": "stream",
     "text": [
      "['I ', ' learning text analytics and ', ' enjoying it']\n"
     ]
    }
   ],
   "source": [
    "sentence9 = re.split(r'am', 'I am learning text analytics and am enjoying it', maxsplit=2)\n",
    "print (sentence9) "
   ]
  },
  {
   "cell_type": "code",
   "execution_count": 29,
   "id": "99d18054-1da7-4191-baf8-c7a25461adf2",
   "metadata": {},
   "outputs": [
    {
     "name": "stdout",
     "output_type": "stream",
     "text": [
      "['I ', ' learning text analytics, I ', ' enjoying it and I ', ' going to ace it']\n"
     ]
    }
   ],
   "source": [
    "sentence10 = re.split(r'am', 'I am learning text analytics, I am enjoying it and I am going to ace it', maxsplit=3)\n",
    "print (sentence10)"
   ]
  },
  {
   "cell_type": "code",
   "execution_count": 31,
   "id": "73e1927e-11fb-443f-bebc-157771cc9a62",
   "metadata": {},
   "outputs": [
    {
     "name": "stdout",
     "output_type": "stream",
     "text": [
      "we like text analytics and we enjoy learning it\n"
     ]
    }
   ],
   "source": [
    "sentence11 = re.sub(r'I', 'we', 'I like text analytics and I enjoy learning it')\n",
    "print (sentence11) "
   ]
  },
  {
   "cell_type": "code",
   "execution_count": 37,
   "id": "24fc8cc8-e326-4a5b-bf2e-9e564eadd770",
   "metadata": {},
   "outputs": [
    {
     "name": "stdout",
     "output_type": "stream",
     "text": [
      "['I', ' ', 'a', 'm', ' ', 'l', 'e', 'a', 'r', 'n', 'i', 'n', 'g', ' ', 't', 'e', 'x', 't', ' ', 'a', 'n', 'a', 'l', 'y', 't', 'i', 'c', 's']\n"
     ]
    }
   ],
   "source": [
    "sentence1 = re.findall (r'.', 'I am learning text analytics')\n",
    "print (sentence1)\n",
    "# Each letter is selected including spaces"
   ]
  },
  {
   "cell_type": "code",
   "execution_count": 41,
   "id": "9e94faa2-40e2-4040-be7b-637243ff808d",
   "metadata": {},
   "outputs": [
    {
     "name": "stdout",
     "output_type": "stream",
     "text": [
      "['I', 'a', 'm', 'l', 'e', 'a', 'r', 'n', 'i', 'n', 'g', 't', 'e', 'x', 't', 'a', 'n', 'a', 'l', 'y', 't', 'i', 'c', 's']\n"
     ]
    }
   ],
   "source": [
    "sentence2 = re.findall (r'\\w', 'I am learning text analytics')\n",
    "print (sentence2)\n",
    "# Each letter is selected excluding spaces"
   ]
  },
  {
   "cell_type": "code",
   "execution_count": 43,
   "id": "52c4b238-356f-4861-a535-f0874e3f14c4",
   "metadata": {},
   "outputs": [
    {
     "name": "stdout",
     "output_type": "stream",
     "text": [
      "['I', '', 'am', '', 'learning', '', 'text', '', 'analytics', '']\n"
     ]
    }
   ],
   "source": [
    "sentence3 = re.findall (r'\\w*', 'I am learning text analytics')\n",
    "print (sentence3)\n",
    "# Each word is selected including spaces"
   ]
  },
  {
   "cell_type": "code",
   "execution_count": 45,
   "id": "f3fa57d8-4693-4ec3-918f-9f768cfb9403",
   "metadata": {},
   "outputs": [
    {
     "name": "stdout",
     "output_type": "stream",
     "text": [
      "['I', 'am', 'learning', 'text', 'analytics']\n"
     ]
    }
   ],
   "source": [
    "sentence4 = re.findall (r'\\w+', 'I am learning text analytics')\n",
    "print (sentence4)\n",
    "# Each word is selected excluding spaces"
   ]
  },
  {
   "cell_type": "code",
   "execution_count": 47,
   "id": "a6a17159-6209-4a8d-8fcc-219962c526e9",
   "metadata": {},
   "outputs": [
    {
     "name": "stdout",
     "output_type": "stream",
     "text": [
      "['I']\n"
     ]
    }
   ],
   "source": [
    "sentence5 = re.findall (r'^\\w+', 'I am learning text analytics')\n",
    "print (sentence5)\n",
    "# First word is selected"
   ]
  },
  {
   "cell_type": "code",
   "execution_count": 49,
   "id": "6e9db14d-f8a6-4f1a-9bec-bfb3b936b98e",
   "metadata": {},
   "outputs": [
    {
     "name": "stdout",
     "output_type": "stream",
     "text": [
      "['analytics']\n"
     ]
    }
   ],
   "source": [
    "sentence6 = re.findall (r'\\w+$', 'I am learning text analytics')\n",
    "print (sentence6)\n",
    "# Last word is selected "
   ]
  },
  {
   "cell_type": "code",
   "execution_count": 51,
   "id": "5686766a-cb9c-46ef-9fdc-5a33e7b6f6a6",
   "metadata": {},
   "outputs": [
    {
     "name": "stdout",
     "output_type": "stream",
     "text": [
      "['am', 'le', 'ar', 'ni', 'ng', 'te', 'xt', 'an', 'al', 'yt', 'ic']\n"
     ]
    }
   ],
   "source": [
    "sentence7 = re.findall (r'\\w\\w', 'I am learning text analytics')\n",
    "print (sentence7)\n",
    "# 2 consecutive characters are selected"
   ]
  },
  {
   "cell_type": "code",
   "execution_count": 53,
   "id": "f5be5f8b-dbce-402a-85c5-35af0ac8cfc9",
   "metadata": {},
   "outputs": [
    {
     "name": "stdout",
     "output_type": "stream",
     "text": [
      "['am', 'le', 'te', 'an']\n"
     ]
    }
   ],
   "source": [
    "sentence8 = re.findall (r'\\b\\w\\w', 'I am learning text analytics')\n",
    "print (sentence8)\n",
    "# 2 consecutive characters in a string are selected"
   ]
  },
  {
   "cell_type": "code",
   "execution_count": 55,
   "id": "9806111e-20ac-484c-91bf-bf34c953d790",
   "metadata": {},
   "outputs": [
    {
     "name": "stdout",
     "output_type": "stream",
     "text": [
      "['@text', '@analytics', '@textanalytics']\n"
     ]
    }
   ],
   "source": [
    "sentence9 = re.findall (r'@\\w+', 'user@text.com.my, user@analytics.gov.my, user@textanalytics.edu.my')\n",
    "print (sentence9)\n",
    "# Only the first word in the domain name is selected"
   ]
  },
  {
   "cell_type": "code",
   "execution_count": 57,
   "id": "fb266e21-310c-495b-a395-d3f29353b87f",
   "metadata": {},
   "outputs": [
    {
     "name": "stdout",
     "output_type": "stream",
     "text": [
      "['@text.com', '@analytics.gov', '@textanalytics.edu']\n"
     ]
    }
   ],
   "source": [
    "sentence10 = re.findall (r'@\\w+.\\w+','user@text.com.my, user@analytics.gov.my, user@textanalytics.edu.my')\n",
    "print (sentence10) "
   ]
  },
  {
   "cell_type": "code",
   "execution_count": 59,
   "id": "92e656e8-3483-43e6-8631-d06c79f6c68c",
   "metadata": {},
   "outputs": [
    {
     "name": "stdout",
     "output_type": "stream",
     "text": [
      "['@text.com.my', '@analytics.gov.my', '@textanalytics.edu.my']\n"
     ]
    }
   ],
   "source": [
    "sentence11 = re.findall (r'@\\w+.\\w+.\\w+', 'user@text.com.my, user@analytics.gov.my, user@textanalytics.edu.my')\n",
    "print (sentence11)\n",
    "# The full domain name is selected"
   ]
  },
  {
   "cell_type": "code",
   "execution_count": 69,
   "id": "f56f6838-a24f-4d49-a000-561ce3b340ea",
   "metadata": {},
   "outputs": [
    {
     "name": "stdout",
     "output_type": "stream",
     "text": [
      "['com.my', 'gov.my', 'edu.my']\n"
     ]
    }
   ],
   "source": [
    "# Solution\n",
    "sentence12 = re.findall (r'@\\w+.(\\w+.\\w+)', 'user@text.com.my, user@analytics.gov.my, user@textanalytics.edu.my')\n",
    "print (sentence12)\n",
    "# To display the type of domain"
   ]
  },
  {
   "cell_type": "code",
   "execution_count": 71,
   "id": "a06ff13f-b456-4449-85db-6926569b1224",
   "metadata": {},
   "outputs": [
    {
     "name": "stdout",
     "output_type": "stream",
     "text": [
      "['15-05-20', '20-08-20']\n"
     ]
    }
   ],
   "source": [
    "sentence13 = re.findall (r'\\d{2}-\\d{2}-\\d{2}', 'Ahmad BIT(IS) 15-05-2001, Johnny BCS(SE) 20-08-2000')\n",
    "print (sentence13)\n",
    "# To display the date in the format of dd-mm-yy"
   ]
  },
  {
   "cell_type": "code",
   "execution_count": 73,
   "id": "4cec3029-3120-4d22-a94f-56ae033a0b7b",
   "metadata": {},
   "outputs": [
    {
     "name": "stdout",
     "output_type": "stream",
     "text": [
      "['15-05-2001', '20-08-2000']\n"
     ]
    }
   ],
   "source": [
    "sentence14 = re.findall (r'\\d{2}-\\d{2}-\\d{4}', 'Ahmad BIT(IS) 15-05-2001, Johnny BCS(SE) 20-08-2000')\n",
    "print (sentence14)\n",
    "# To display the date in the format of dd-mm-yyyy"
   ]
  },
  {
   "cell_type": "code",
   "execution_count": 75,
   "id": "aafab460-c8ac-4572-9fac-46283c6f0565",
   "metadata": {},
   "outputs": [
    {
     "name": "stdout",
     "output_type": "stream",
     "text": [
      "['2001', '2000']\n"
     ]
    }
   ],
   "source": [
    "sentence15 = re.findall (r'\\d{2}-\\d{2}-(\\d{4})', 'Ahmad BIT(IS) 15-05-2001, Johnny BCS(SE) 20-08-2000')\n",
    "print (sentence15)\n",
    "# Only the year will be displayed"
   ]
  },
  {
   "cell_type": "code",
   "execution_count": 81,
   "id": "b7260350-d814-4bb1-8da0-2449b68f49df",
   "metadata": {},
   "outputs": [
    {
     "name": "stdout",
     "output_type": "stream",
     "text": [
      "['ave', 'eight', 'ory', 'ooks', 'often', 'ead', 'em', 'in', 'afternoon']\n"
     ]
    }
   ],
   "source": [
    "sentence16 = re.findall (r'[aeiouAEIOU]\\w+', 'I have eight story books. I often read them in afternoon')\n",
    "print (sentence16)\n",
    "# A sequence that starts with a vowel followed by one or more"
   ]
  },
  {
   "cell_type": "code",
   "execution_count": 85,
   "id": "6c8a89b0-b03c-4204-b889-25c650e84bfb",
   "metadata": {},
   "outputs": [
    {
     "name": "stdout",
     "output_type": "stream",
     "text": [
      "['eight', 'often', 'in', 'afternoon']\n"
     ]
    }
   ],
   "source": [
    "sentence17 = re.findall (r'\\b[aeiouAEIOU]\\w+', 'I have eight story books. I often read them in afternoon')\n",
    "print (sentence17)"
   ]
  },
  {
   "cell_type": "code",
   "execution_count": 89,
   "id": "fa7e23cb-b8ec-4e5f-9967-528a67a2bbdc",
   "metadata": {},
   "outputs": [
    {
     "name": "stdout",
     "output_type": "stream",
     "text": [
      "['have', 'story', 'books', 'read', 'them']\n"
     ]
    }
   ],
   "source": [
    "sentence18 = re.findall (r'\\b[^aeiouAEIOU\\s]\\w+', 'I have eight story books. I often read them in afternoon')\n",
    "print (sentence18)\n",
    "# Only words that start with non-vowels are selected"
   ]
  },
  {
   "cell_type": "code",
   "execution_count": 91,
   "id": "0fd43c56-83e8-4a90-a25f-bc3f482aedbe",
   "metadata": {},
   "outputs": [
    {
     "name": "stdout",
     "output_type": "stream",
     "text": [
      "['I have many story books', ' colouring books', ' I often read them in the afternoon.']\n"
     ]
    }
   ],
   "source": [
    "sentence19 = re.split (r'[;,]', 'I have many story books, colouring books; I often read them in the afternoon.')\n",
    "print (sentence19)\n",
    "# split the words based on the delimiters semi colon and comma"
   ]
  },
  {
   "cell_type": "code",
   "execution_count": 93,
   "id": "393762f5-7cba-4a56-bbb9-3073cb4c51c1",
   "metadata": {},
   "outputs": [
    {
     "name": "stdout",
     "output_type": "stream",
     "text": [
      "['I', 'have', 'many', 'story', 'books', '', 'colouring', 'books', '', 'I', 'often', 'read', 'them', 'in', 'the', 'afternoon.']\n"
     ]
    }
   ],
   "source": [
    "sentence20 = re.split (r'[;,\\s]', 'I have many story books, colouring books; I often read them in the afternoon.')\n",
    "print (sentence20)\n",
    "# split the words based on the delimiters semi colon, comma and space"
   ]
  },
  {
   "cell_type": "code",
   "execution_count": 95,
   "id": "94d4b85a-1522-4175-bb34-3f83d1f304f0",
   "metadata": {},
   "outputs": [
    {
     "name": "stdout",
     "output_type": "stream",
     "text": [
      "I have many story books. colouring books. I often read them in the afternoon.\n"
     ]
    }
   ],
   "source": [
    "sentence21 = re.sub (r'[;,]', '.', 'I have many story books, colouring books; I often read them in the afternoon.')\n",
    "print (sentence21)\n",
    "# Substitute the delimiters semi colon and comma with fullstop"
   ]
  }
 ],
 "metadata": {
  "kernelspec": {
   "display_name": "Python 3 (ipykernel)",
   "language": "python",
   "name": "python3"
  },
  "language_info": {
   "codemirror_mode": {
    "name": "ipython",
    "version": 3
   },
   "file_extension": ".py",
   "mimetype": "text/x-python",
   "name": "python",
   "nbconvert_exporter": "python",
   "pygments_lexer": "ipython3",
   "version": "3.12.4"
  }
 },
 "nbformat": 4,
 "nbformat_minor": 5
}
