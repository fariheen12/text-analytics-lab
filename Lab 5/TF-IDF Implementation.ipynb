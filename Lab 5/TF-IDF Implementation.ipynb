{
 "cells": [
  {
   "cell_type": "code",
   "execution_count": 29,
   "id": "e610665d-040b-4939-bc42-f1fa7ff2a2d4",
   "metadata": {},
   "outputs": [],
   "source": [
    "import pandas as pd\n",
    "import math # use for log function\n",
    "from collections import Counter"
   ]
  },
  {
   "cell_type": "code",
   "execution_count": 31,
   "id": "ac3167f1-3ff7-4383-8db9-8a5cf112596d",
   "metadata": {},
   "outputs": [],
   "source": [
    "file_path = \"Processed_Reviews.csv\"\n",
    "df = pd.read_csv(file_path)"
   ]
  },
  {
   "cell_type": "code",
   "execution_count": 33,
   "id": "67389a98-545a-42a1-be7c-cbfb11697d88",
   "metadata": {},
   "outputs": [],
   "source": [
    "tokenized_reviews = df['tokenized'].dropna().apply(eval)"
   ]
  },
  {
   "cell_type": "code",
   "execution_count": 39,
   "id": "66c891ce-daca-4735-b48f-f22671ed636b",
   "metadata": {},
   "outputs": [],
   "source": [
    "def compute_tf(document):\n",
    "    word_count = Counter(document)  # Fixed indentation\n",
    "    tf = {word: count / len(document) for word, count in word_count.items()}\n",
    "    return tf"
   ]
  },
  {
   "cell_type": "code",
   "execution_count": 45,
   "id": "0547431d-d8aa-438d-a55c-4f47a5f5ac45",
   "metadata": {},
   "outputs": [],
   "source": [
    "def compute_idf(documents):\n",
    " N = len(documents)\n",
    " idf = {}\n",
    " all_words = set(word for doc in documents for word in doc)\n",
    " for word in all_words:\n",
    "     count = sum(1 for doc in documents if word in doc)\n",
    "     idf[word] = math.log(N / count)\n",
    " return idf"
   ]
  }
 ],
 "metadata": {
  "kernelspec": {
   "display_name": "Python 3 (ipykernel)",
   "language": "python",
   "name": "python3"
  },
  "language_info": {
   "codemirror_mode": {
    "name": "ipython",
    "version": 3
   },
   "file_extension": ".py",
   "mimetype": "text/x-python",
   "name": "python",
   "nbconvert_exporter": "python",
   "pygments_lexer": "ipython3",
   "version": "3.12.4"
  }
 },
 "nbformat": 4,
 "nbformat_minor": 5
}
