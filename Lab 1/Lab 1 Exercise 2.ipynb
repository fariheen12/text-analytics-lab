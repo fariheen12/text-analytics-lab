{
 "cells": [
  {
   "cell_type": "code",
   "execution_count": 15,
   "id": "e52fbd55-e21a-4a7c-9011-9224e0786d1b",
   "metadata": {},
   "outputs": [],
   "source": [
    "import PyPDF2\n",
    "\n",
    "# Open the PDF file\n",
    "with open('Business_Proposal.pdf', 'rb') as file:\n",
    "    reader = PyPDF2.PdfReader(file)\n",
    "\n",
    "        # Extract text from page 2 (index 1)\n",
    "    page_2 = reader.pages[1]  # Page 2 is at index 1\n",
    "    text = page_2.extract_text()"
   ]
  },
  {
   "cell_type": "code",
   "execution_count": 17,
   "id": "f17faadf-4d79-40e9-bffb-1101bebc2153",
   "metadata": {},
   "outputs": [
    {
     "name": "stdout",
     "output_type": "stream",
     "text": [
      "Extracted Page 2:\n",
      " AUTHORS:  \n",
      "Amy Baker, Finance Chair, x345, abaker@ourcompany.com  \n",
      "Chris Donaldson, Accounting Dir., x621, cdonaldson@ourcompany.com  \n",
      "Erin Freeman, Sr. VP, x879, efreeman@ourcompany.com  \n"
     ]
    }
   ],
   "source": [
    "    # Print the extracted text\n",
    "    print(\"Extracted Page 2:\\n\", text)"
   ]
  },
  {
   "cell_type": "code",
   "execution_count": 19,
   "id": "497d40e6-a9d8-4055-834a-e3b882324b06",
   "metadata": {},
   "outputs": [],
   "source": [
    "# Store the extracted text in a file\n",
    "with open('business_proposal_page_2.txt', 'w', encoding='utf-8') as output:\n",
    "    output.write(text)"
   ]
  },
  {
   "cell_type": "code",
   "execution_count": null,
   "id": "b8b03d83-17d2-4c8b-8e09-ece20663f12f",
   "metadata": {},
   "outputs": [],
   "source": []
  }
 ],
 "metadata": {
  "kernelspec": {
   "display_name": "Python 3 (ipykernel)",
   "language": "python",
   "name": "python3"
  },
  "language_info": {
   "codemirror_mode": {
    "name": "ipython",
    "version": 3
   },
   "file_extension": ".py",
   "mimetype": "text/x-python",
   "name": "python",
   "nbconvert_exporter": "python",
   "pygments_lexer": "ipython3",
   "version": "3.12.4"
  }
 },
 "nbformat": 4,
 "nbformat_minor": 5
}
