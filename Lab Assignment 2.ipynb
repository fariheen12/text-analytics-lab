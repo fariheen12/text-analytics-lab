{
 "cells": [
  {
   "cell_type": "code",
   "execution_count": 19,
   "id": "cd9d7f0f-d949-4055-99b5-b482d82c2d82",
   "metadata": {},
   "outputs": [],
   "source": [
    "## MUHAMMAD FARIHEEN BIN ABD RAHIM (SW01082818)\n",
    "## MUHAMMAD ADEEB BIN ABDULLAH (SW01082814)"
   ]
  },
  {
   "cell_type": "code",
   "execution_count": 21,
   "id": "9a56599d-b033-4b05-9d45-86fdae565502",
   "metadata": {},
   "outputs": [],
   "source": [
    "## Question 1"
   ]
  },
  {
   "cell_type": "code",
   "execution_count": 13,
   "id": "357416df-a0db-4623-bb69-d71d01783fcc",
   "metadata": {},
   "outputs": [
    {
     "name": "stderr",
     "output_type": "stream",
     "text": [
      "[nltk_data] Downloading package stopwords to\n",
      "[nltk_data]     C:\\Users\\60139\\AppData\\Roaming\\nltk_data...\n",
      "[nltk_data]   Package stopwords is already up-to-date!\n"
     ]
    }
   ],
   "source": [
    "import pandas as pd\n",
    "import re\n",
    "import nltk\n",
    "from nltk.corpus import stopwords\n",
    "\n",
    "# Download NLTK Stopwords\n",
    "nltk.download('stopwords')\n",
    "stop_words = set(stopwords.words('english'))\n",
    "\n",
    "# Define Cleaning Function\n",
    "def clean_text(text):\n",
    "    text = str(text).lower()\n",
    "    text = re.sub(r'[^a-z\\s]', '', text)  # Remove non-alphabetic chars\n",
    "    tokens = text.split()\n",
    "    filtered = [word for word in tokens if word not in stop_words]\n",
    "    return ' '.join(filtered)\n",
    "\n",
    "# Load and Sample Dataset\n",
    "df = pd.read_csv(\"Reviews.csv\")\n",
    "df = df.sample(n=5000, random_state=42).reset_index(drop=True)\n",
    "\n",
    "# Clean the Review Text\n",
    "df['Processed_Text'] = df['Text'].apply(clean_text)\n",
    "\n",
    "# Save cleaned data\n",
    "df.to_csv(\"cleaned_reviews.csv\", index=False)"
   ]
  },
  {
   "cell_type": "code",
   "execution_count": 15,
   "id": "4a77cedc-e7cc-4693-b1fd-7d7bcb7f9f1f",
   "metadata": {},
   "outputs": [],
   "source": [
    "from sklearn.feature_extraction.text import TfidfVectorizer\n",
    "\n",
    "# TF-IDF Vectorization\n",
    "vectorizer = TfidfVectorizer(max_features=500)\n",
    "X = vectorizer.fit_transform(df['Processed_Text'])\n",
    "\n",
    "# Convert to DataFrame\n",
    "tfidf_df = pd.DataFrame(X.toarray(), columns=vectorizer.get_feature_names_out())\n",
    "\n",
    "# Combine Only Essential Columns (Score + TF-IDF)\n",
    "final_df = pd.concat([df[['Score']].reset_index(drop=True), tfidf_df], axis=1)\n",
    "\n",
    "# Save \n",
    "final_df.to_csv(\"reviews_tfidf.csv\", index=False)"
   ]
  },
  {
   "cell_type": "code",
   "execution_count": null,
   "id": "ff8bacc0-73c3-4a5e-b661-bccad22adb32",
   "metadata": {},
   "outputs": [],
   "source": []
  }
 ],
 "metadata": {
  "kernelspec": {
   "display_name": "Python 3 (ipykernel)",
   "language": "python",
   "name": "python3"
  },
  "language_info": {
   "codemirror_mode": {
    "name": "ipython",
    "version": 3
   },
   "file_extension": ".py",
   "mimetype": "text/x-python",
   "name": "python",
   "nbconvert_exporter": "python",
   "pygments_lexer": "ipython3",
   "version": "3.12.4"
  }
 },
 "nbformat": 4,
 "nbformat_minor": 5
}
